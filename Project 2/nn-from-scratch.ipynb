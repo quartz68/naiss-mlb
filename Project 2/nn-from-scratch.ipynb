{
 "cells": [
  {
   "cell_type": "markdown",
   "metadata": {},
   "source": [
    "# NAISS MLB Project 2: Neural Network from Scratch\n",
    "\n",
    "Instructions unclear, implemented NN in Scratch"
   ]
  },
  {
   "cell_type": "markdown",
   "metadata": {},
   "source": [
    "## Iteration 1: Literally OOP with typed Python"
   ]
  },
  {
   "cell_type": "markdown",
   "metadata": {},
   "source": [
    "### Implementation"
   ]
  },
  {
   "cell_type": "code",
   "execution_count": 180,
   "metadata": {},
   "outputs": [],
   "source": [
    "# Activation functions\n",
    "from abc import ABC, abstractmethod\n",
    "import math\n",
    "\n",
    "class ActivationFunction(ABC):\n",
    "    @abstractmethod\n",
    "    def __call__(self, x: float) -> float:\n",
    "        ...\n",
    "\n",
    "    @abstractmethod\n",
    "    def derivative(self, x: float) -> float:\n",
    "        ...\n",
    "\n",
    "class Identity(ActivationFunction):\n",
    "    def __call__(self, x: float) -> float:\n",
    "        return x\n",
    "\n",
    "    def derivative(self, x: float) -> float:\n",
    "        return 1\n",
    "\n",
    "class Sigmoid(ActivationFunction):\n",
    "    def __call__(self, x: float) -> float:\n",
    "        return 1 / (1 + math.exp(-x))\n",
    "\n",
    "    def derivative(self, x: float) -> float:\n",
    "        return self(x) * (1 - self(x))\n",
    "    \n",
    "class ReLU(ActivationFunction):\n",
    "    def __call__(self, x: float) -> float:\n",
    "        return max(0, x)\n",
    "\n",
    "    def derivative(self, x: float) -> float:\n",
    "        return 0 if x < 0 else 1"
   ]
  },
  {
   "cell_type": "code",
   "execution_count": 181,
   "metadata": {},
   "outputs": [],
   "source": [
    "# Weight Initializer\n",
    "import random\n",
    "\n",
    "class WeightInitializer:\n",
    "    def __init__(self, *args, **kwargs):\n",
    "        ...\n",
    "    def initialize(self, *args, **kwargs) -> float:\n",
    "        ...\n",
    "\n",
    "class RandomWeightInitializer(WeightInitializer):\n",
    "    min: float\n",
    "    max: float\n",
    "\n",
    "    def __init__(self, min: float, max: float):\n",
    "        self.min = min\n",
    "        self.max = max\n",
    "    \n",
    "    def initialize(self) -> float:\n",
    "        return random.uniform(self.min, self.max)\n",
    "    \n",
    "class ZeroWeightInitializer(WeightInitializer):\n",
    "    def __init__(self):\n",
    "        ...\n",
    "    def initialize(self) -> float:\n",
    "        return 0\n",
    "    \n",
    "class HeWeightInitializer(WeightInitializer):\n",
    "    fan_in: float\n",
    "\n",
    "    def __init__(self, fan_in: float):\n",
    "        if fan_in <= 0:\n",
    "            raise ValueError(\"fan_in must be a positive number.\")\n",
    "        self.fan_in = fan_in\n",
    "\n",
    "    def initialize(self) -> float:\n",
    "        std_dev = math.sqrt(2.0 / self.fan_in)\n",
    "        return random.gauss(0, std_dev)\n",
    "    \n",
    "class XavierWeightInitializer(WeightInitializer):\n",
    "    fan_in: float\n",
    "    fan_out: float\n",
    "\n",
    "    def __init__(self, fan_in: float, fan_out: float):\n",
    "        if fan_in <= 0 or fan_out <= 0:\n",
    "            raise ValueError(\"fan_in and fan_out must be positive numbers.\")\n",
    "        self.fan_in = fan_in\n",
    "        self.fan_out = fan_out\n",
    "\n",
    "    def initialize(self) -> float:\n",
    "        variance = 2.0 / (self.fan_in + self.fan_out)\n",
    "        std_dev = math.sqrt(variance)\n",
    "        return random.gauss(0, std_dev)"
   ]
  },
  {
   "cell_type": "code",
   "execution_count": 182,
   "metadata": {},
   "outputs": [],
   "source": [
    "# Neural network\n",
    "import random\n",
    "from typing import Optional\n",
    "from tqdm import tqdm\n",
    "\n",
    "class Hyperparameters:\n",
    "    learning_rate: float\n",
    "    epochs: int\n",
    "    weight_decay: float\n",
    "    clip_gradient: float\n",
    "    clip_weight: float\n",
    "    clip_weight_update: float\n",
    "    clip_bias: float\n",
    "\n",
    "    def __init__(self, learning_rate: float, epochs: int, weight_decay: float = 0, clip_gradient: float = 1.0, clip_weight: float = 5.0, clip_weight_update: float = 0.1, clip_bias: float = 5.0):\n",
    "        self.learning_rate = learning_rate\n",
    "        self.epochs = epochs\n",
    "        self.weight_decay = weight_decay\n",
    "        self.clip_gradient = clip_gradient\n",
    "        self.clip_weight = clip_weight\n",
    "        self.clip_weight_update = clip_weight_update\n",
    "        self.clip_bias = clip_bias\n",
    "\n",
    "class Connection:\n",
    "    from_: 'Neuron'\n",
    "    to: 'Neuron'\n",
    "    w: float\n",
    "    dw: float\n",
    "\n",
    "    def __init__(self, from_: 'Neuron', to: 'Neuron', weight: float):\n",
    "        self.from_ = from_\n",
    "        self.to = to\n",
    "        self.w = weight\n",
    "        self.dw = 0\n",
    "\n",
    "\n",
    "class Neuron:\n",
    "    a: ActivationFunction\n",
    "    in_connections: list[Connection]\n",
    "    out_connections: list[Connection]\n",
    "    b: float\n",
    "    d: float\n",
    "    out: float\n",
    "    in_sum: float\n",
    "\n",
    "    def __init__(self, a: ActivationFunction, b: float):\n",
    "        self.a = a\n",
    "        self.in_connections = []\n",
    "        self.out_connections = []\n",
    "        self.b = b\n",
    "        self.d = 0\n",
    "        self.out = 0\n",
    "        self.in_sum = 0\n",
    "\n",
    "    def compute_out(self):\n",
    "        self.in_sum = sum(\n",
    "            [conn.from_.out * conn.w for conn in self.in_connections]) + self.b\n",
    "        self.out = self.a(self.in_sum)\n",
    "\n",
    "    def compute_d(self, hyperparameters: Hyperparameters, target: Optional[float] = None):\n",
    "        if target is None and self.out_connections:\n",
    "            self.d = sum([conn.to.d * conn.w for conn in self.out_connections]\n",
    "                         ) * self.a.derivative(self.in_sum)\n",
    "        elif target is not None:\n",
    "            self.d = (target - self.out) * self.a.derivative(self.in_sum)\n",
    "        else:\n",
    "            raise ValueError(\"Target must be specified for output layer\")\n",
    "\n",
    "        # Clip gradients\n",
    "        self.d = max(min(self.d, hyperparameters.clip_gradient), -hyperparameters.clip_gradient)\n",
    "\n",
    "    def update_w(self, hyperparameters: Hyperparameters):\n",
    "        for conn in self.in_connections:\n",
    "            # With weight decay\n",
    "            conn.dw = hyperparameters.learning_rate * conn.from_.out * self.d - hyperparameters.weight_decay * conn.w\n",
    "\n",
    "            # Clip weight update\n",
    "            conn.dw = max(min(conn.dw, hyperparameters.clip_weight_update), -hyperparameters.clip_weight_update)\n",
    "            conn.w += conn.dw\n",
    "\n",
    "            # Clip weight\n",
    "            conn.w = max(min(conn.w, hyperparameters.clip_weight), -hyperparameters.clip_weight)\n",
    "\n",
    "        self.b += hyperparameters.learning_rate * self.d\n",
    "        # Clip bias\n",
    "        self.b = max(min(self.b, hyperparameters.clip_bias), -hyperparameters.clip_bias)\n",
    "\n",
    "\n",
    "class Layer:\n",
    "    neurons: list[Neuron]\n",
    "\n",
    "    def __init__(self, n: int, a: ActivationFunction, weight_initializer: WeightInitializer):\n",
    "        self.neurons = [Neuron(a, 0) for _ in range(n)]\n",
    "\n",
    "    def compute_outs(self):\n",
    "        for neuron in self.neurons:\n",
    "            neuron.compute_out()\n",
    "\n",
    "    def compute_ds(self, hyperparameters: Hyperparameters, targets: Optional[list[float]] = None):\n",
    "        if targets is None:\n",
    "            for neuron in self.neurons:\n",
    "                neuron.compute_d(hyperparameters)\n",
    "        else:\n",
    "            for neuron, target in zip(self.neurons, targets):\n",
    "                neuron.compute_d(hyperparameters, target)\n",
    "\n",
    "    def update_ws(self, hyperparameters: Hyperparameters):\n",
    "        for neuron in self.neurons:\n",
    "            neuron.update_w(hyperparameters)\n",
    "\n",
    "\n",
    "# Softmax is only used in the output layer and the activation function is multivariate, so can't have the activation function at the neuron level\n",
    "# This is broken\n",
    "# class SoftmaxLayer(Layer):\n",
    "#     def __init__(self, n: int, weight_initializer: WeightInitializer):\n",
    "#         self.neurons = [Neuron(Identity(), weight_initializer.initialize()) for _ in range(n)]\n",
    "\n",
    "#     def compute_outs(self):\n",
    "#         for neuron in self.neurons:\n",
    "#             neuron.in_sum = sum([conn.from_.out * conn.w for conn in neuron.in_connections]) + neuron.b\n",
    "\n",
    "#         shift = max([neuron.in_sum for neuron in self.neurons])\n",
    "#         exps = [math.exp(neuron.in_sum - shift) for neuron in self.neurons]\n",
    "#         sum_exps = sum(exps)\n",
    "\n",
    "#         for neuron, exp_val in zip(self.neurons, exps):\n",
    "#             neuron.out = exp_val / sum_exps\n",
    "\n",
    "#     def compute_ds(self, hyperparameters: Hyperparameters, targets: Optional[list[float]] = None):\n",
    "#         if targets is None:\n",
    "#             raise ValueError(\"Targets must be specified for softmax layer\")\n",
    "        \n",
    "#         for neuron, target in zip(self.neurons, targets):\n",
    "#             neuron.d = neuron.out - target\n",
    "#             # Clip gradients\n",
    "#             neuron.d = max(min(neuron.d, hyperparameters.clip_gradient), \n",
    "#                             -hyperparameters.clip_gradient)\n",
    "\n",
    "#     def update_ws(self, hyperparameters: Hyperparameters):\n",
    "#         for neuron in self.neurons:\n",
    "#             neuron.update_w(hyperparameters)\n",
    "\n",
    "\n",
    "class NeuralNetwork:\n",
    "    layers: list[Layer]\n",
    "    avg_loss_history: list[float]\n",
    "    accuracy_history: list[float]\n",
    "\n",
    "    def __init__(self, layers: list[Layer], random_state: Optional[int] = None):\n",
    "        self.layers = layers\n",
    "        self.avg_loss_history = []\n",
    "        self.accuracy_history = []\n",
    "        if random_state is not None:\n",
    "            random.seed(random_state)\n",
    "        for i, layer in enumerate(self.layers):\n",
    "            if i > 0:\n",
    "                for from_neuron in self.layers[i - 1].neurons:\n",
    "                    for to_neuron in layer.neurons:\n",
    "                        conn = Connection(\n",
    "                            from_neuron, to_neuron, random.uniform(-1, 1))\n",
    "                        from_neuron.out_connections.append(conn)\n",
    "                        to_neuron.in_connections.append(conn)\n",
    "\n",
    "    def feed_forward(self, inputs: list[float]) -> list[float]:\n",
    "        for i, neuron in enumerate(self.layers[0].neurons):\n",
    "            neuron.out = inputs[i]\n",
    "        for layer in self.layers[1:]:\n",
    "            layer.compute_outs()\n",
    "        return [neuron.out for neuron in self.layers[-1].neurons]\n",
    "\n",
    "    def back_propagate(self, hyperparameters: Hyperparameters, targets: list[float],):\n",
    "        self.layers[-1].compute_ds(hyperparameters, targets)\n",
    "\n",
    "        for layer in reversed(self.layers[:-1]):\n",
    "            layer.compute_ds(hyperparameters)\n",
    "\n",
    "    def update_w(self, hyperparameters: Hyperparameters):\n",
    "        for layer in self.layers[1:]:\n",
    "            layer.update_ws(hyperparameters)\n",
    "\n",
    "    def train(self, training_data: list[tuple[list[float], list[float]]], hyperparameters: Hyperparameters):\n",
    "        for epoch in tqdm(range(hyperparameters.epochs)):\n",
    "            total_loss = 0\n",
    "            correct_predictions = 0\n",
    "            for inputs, targets in training_data:\n",
    "                outputs = self.feed_forward(inputs)\n",
    "                self.back_propagate(hyperparameters, targets)\n",
    "                self.update_w(hyperparameters)\n",
    "                total_loss += sum((target - output) ** 2 for target, output in zip(targets, outputs)) / len(targets)\n",
    "                if targets.index(max(targets)) == outputs.index(max(outputs)):\n",
    "                    correct_predictions += 1\n",
    "            avg_loss = total_loss / len(training_data)\n",
    "            accuracy = correct_predictions / len(training_data)\n",
    "            self.avg_loss_history.append(avg_loss)\n",
    "            self.accuracy_history.append(accuracy)\n",
    "            tqdm.write(f\"Epoch {epoch + 1}/{hyperparameters.epochs}, Loss: {avg_loss}, Accuracy: {accuracy}\")"
   ]
  },
  {
   "cell_type": "markdown",
   "metadata": {},
   "source": [
    "### Training & Testing"
   ]
  },
  {
   "cell_type": "code",
   "execution_count": 208,
   "metadata": {},
   "outputs": [
    {
     "name": "stderr",
     "output_type": "stream",
     "text": [
      "  7%|▋         | 1/15 [00:04<00:57,  4.12s/it]"
     ]
    },
    {
     "name": "stdout",
     "output_type": "stream",
     "text": [
      "Epoch 1/15, Loss: 0.1458455127769419, Accuracy: 0.35337787676317745\n"
     ]
    },
    {
     "name": "stderr",
     "output_type": "stream",
     "text": [
      " 13%|█▎        | 2/15 [00:08<00:53,  4.13s/it]"
     ]
    },
    {
     "name": "stdout",
     "output_type": "stream",
     "text": [
      "Epoch 2/15, Loss: 0.05124822264063953, Accuracy: 0.6555308092056422\n"
     ]
    },
    {
     "name": "stderr",
     "output_type": "stream",
     "text": [
      " 20%|██        | 3/15 [00:12<00:51,  4.25s/it]"
     ]
    },
    {
     "name": "stdout",
     "output_type": "stream",
     "text": [
      "Epoch 3/15, Loss: 0.035790004683200836, Accuracy: 0.7587230883444692\n"
     ]
    },
    {
     "name": "stderr",
     "output_type": "stream",
     "text": [
      " 27%|██▋       | 4/15 [00:16<00:46,  4.26s/it]"
     ]
    },
    {
     "name": "stdout",
     "output_type": "stream",
     "text": [
      "Epoch 4/15, Loss: 0.028617755859339095, Accuracy: 0.8062360801781737\n"
     ]
    },
    {
     "name": "stderr",
     "output_type": "stream",
     "text": [
      " 33%|███▎      | 5/15 [00:21<00:42,  4.29s/it]"
     ]
    },
    {
     "name": "stdout",
     "output_type": "stream",
     "text": [
      "Epoch 5/15, Loss: 0.0242325233852641, Accuracy: 0.8492947290274685\n"
     ]
    },
    {
     "name": "stderr",
     "output_type": "stream",
     "text": [
      " 40%|████      | 6/15 [00:25<00:38,  4.30s/it]"
     ]
    },
    {
     "name": "stdout",
     "output_type": "stream",
     "text": [
      "Epoch 6/15, Loss: 0.017807548053429836, Accuracy: 0.9213066072754269\n"
     ]
    },
    {
     "name": "stderr",
     "output_type": "stream",
     "text": [
      " 47%|████▋     | 7/15 [00:29<00:33,  4.25s/it]"
     ]
    },
    {
     "name": "stdout",
     "output_type": "stream",
     "text": [
      "Epoch 7/15, Loss: 0.015919498166843654, Accuracy: 0.9354120267260579\n"
     ]
    },
    {
     "name": "stderr",
     "output_type": "stream",
     "text": [
      " 53%|█████▎    | 8/15 [00:33<00:29,  4.22s/it]"
     ]
    },
    {
     "name": "stdout",
     "output_type": "stream",
     "text": [
      "Epoch 8/15, Loss: 0.01476541943735936, Accuracy: 0.9480326651818857\n"
     ]
    },
    {
     "name": "stderr",
     "output_type": "stream",
     "text": [
      " 60%|██████    | 9/15 [00:38<00:25,  4.21s/it]"
     ]
    },
    {
     "name": "stdout",
     "output_type": "stream",
     "text": [
      "Epoch 9/15, Loss: 0.013774803060177579, Accuracy: 0.9539717891610987\n"
     ]
    },
    {
     "name": "stderr",
     "output_type": "stream",
     "text": [
      " 67%|██████▋   | 10/15 [00:42<00:21,  4.26s/it]"
     ]
    },
    {
     "name": "stdout",
     "output_type": "stream",
     "text": [
      "Epoch 10/15, Loss: 0.013092305017660842, Accuracy: 0.961395694135115\n"
     ]
    },
    {
     "name": "stderr",
     "output_type": "stream",
     "text": [
      " 73%|███████▎  | 11/15 [00:46<00:17,  4.30s/it]"
     ]
    },
    {
     "name": "stdout",
     "output_type": "stream",
     "text": [
      "Epoch 11/15, Loss: 0.012573960998850317, Accuracy: 0.9651076466221232\n"
     ]
    },
    {
     "name": "stderr",
     "output_type": "stream",
     "text": [
      " 80%|████████  | 12/15 [00:51<00:12,  4.27s/it]"
     ]
    },
    {
     "name": "stdout",
     "output_type": "stream",
     "text": [
      "Epoch 12/15, Loss: 0.012272437731507654, Accuracy: 0.9673348181143281\n"
     ]
    },
    {
     "name": "stderr",
     "output_type": "stream",
     "text": [
      " 87%|████████▋ | 13/15 [00:55<00:08,  4.28s/it]"
     ]
    },
    {
     "name": "stdout",
     "output_type": "stream",
     "text": [
      "Epoch 13/15, Loss: 0.012038209866967079, Accuracy: 0.9703043801039347\n"
     ]
    },
    {
     "name": "stderr",
     "output_type": "stream",
     "text": [
      " 93%|█████████▎| 14/15 [00:59<00:04,  4.24s/it]"
     ]
    },
    {
     "name": "stdout",
     "output_type": "stream",
     "text": [
      "Epoch 14/15, Loss: 0.01182727270281669, Accuracy: 0.9725315515961396\n"
     ]
    },
    {
     "name": "stderr",
     "output_type": "stream",
     "text": [
      "100%|██████████| 15/15 [01:03<00:00,  4.25s/it]"
     ]
    },
    {
     "name": "stdout",
     "output_type": "stream",
     "text": [
      "Epoch 15/15, Loss: 0.01164387003873461, Accuracy: 0.9740163325909429\n"
     ]
    },
    {
     "name": "stderr",
     "output_type": "stream",
     "text": [
      "\n"
     ]
    },
    {
     "data": {
      "text/plain": [
       "0.9711111111111111"
      ]
     },
     "execution_count": 208,
     "metadata": {},
     "output_type": "execute_result"
    }
   ],
   "source": [
    "from sklearn.datasets import load_digits\n",
    "from sklearn.model_selection import train_test_split\n",
    "from sklearn.preprocessing import StandardScaler\n",
    "from sklearn.metrics import accuracy_score\n",
    "\n",
    "digits = load_digits()\n",
    "\n",
    "X = digits.data  # type: ignore\n",
    "y = digits.target  # type: ignore\n",
    "\n",
    "X_train, X_test, y_train, y_test = train_test_split(\n",
    "    X, y, test_size=0.25, random_state=42)\n",
    "\n",
    "scaler = StandardScaler()\n",
    "X_train = scaler.fit_transform(X_train)\n",
    "X_test = scaler.transform(X_test)\n",
    "\n",
    "nn = NeuralNetwork([\n",
    "    Layer(64, ReLU(), HeWeightInitializer(64)),\n",
    "    Layer(32, ReLU(), HeWeightInitializer(32)),\n",
    "    Layer(10, Sigmoid(), XavierWeightInitializer(32, 10))\n",
    "])\n",
    "\n",
    "training_data = list(zip(X_train.tolist(), [\n",
    "                     [1.0 if i == target else 0.0 for i in range(10)] for target in y_train]))\n",
    "\n",
    "nn.train(training_data, Hyperparameters(\n",
    "    learning_rate=0.02,\n",
    "    epochs=15,\n",
    "    weight_decay=0.0001,\n",
    "    clip_gradient=5.0,\n",
    "    clip_weight=10.0,\n",
    "    clip_weight_update=0.5,\n",
    "    clip_bias=10.0))\n",
    "\n",
    "probabilities = [nn.feed_forward(x) for x in X_test]\n",
    "y_pred = [max(enumerate(prob), key=lambda x: x[1])[0]\n",
    "          for prob in probabilities]\n",
    "\n",
    "accuracy_score(y_test, y_pred)"
   ]
  },
  {
   "cell_type": "markdown",
   "metadata": {},
   "source": [
    "So slow... I didn't profile it but I assume that other than no parallelization, passing stuff around also has a lot of overhead. And I gave up trying to get softmax to work."
   ]
  },
  {
   "cell_type": "code",
   "execution_count": 209,
   "metadata": {},
   "outputs": [
    {
     "data": {
      "image/png": "[encoded data removed]",
      "text/plain": [
       "<Figure size 640x480 with 2 Axes>"
      ]
     },
     "metadata": {},
     "output_type": "display_data"
    }
   ],
   "source": [
    "import matplotlib.pyplot as plt\n",
    "\n",
    "plt.rcParams['figure.dpi'] = 100\n",
    "fig, ax1 = plt.subplots()\n",
    "\n",
    "color = 'tab:blue'\n",
    "ax1.set_xlabel('Epoch')\n",
    "ax1.set_ylabel('Average Loss', color=color)\n",
    "ax1.set_yscale('log')\n",
    "ax1.plot(nn.avg_loss_history, color=color)\n",
    "ax1.tick_params(axis='y', labelcolor=color)\n",
    "\n",
    "ax2 = ax1.twinx()  \n",
    "color = 'tab:red'\n",
    "ax2.set_ylabel('Accuracy', color=color)\n",
    "ax2.set_yscale('log')\n",
    "ax2.plot(nn.accuracy_history, color=color)\n",
    "ax2.tick_params(axis='y', labelcolor=color)\n",
    "\n",
    "fig.tight_layout()  \n",
    "plt.show()"
   ]
  },
  {
   "cell_type": "markdown",
   "metadata": {},
   "source": [
    "## Iteration 2: Vectorize with NumPy"
   ]
  },
  {
   "cell_type": "markdown",
   "metadata": {},
   "source": [
    "### Implementation"
   ]
  },
  {
   "cell_type": "code",
   "execution_count": 18,
   "metadata": {},
   "outputs": [],
   "source": [
    "# Activation functions\n",
    "import numpy as np\n",
    "from abc import ABC, abstractmethod\n",
    "\n",
    "class ActivationFunction(ABC):\n",
    "    @abstractmethod\n",
    "    def __call__(self, x: np.ndarray) -> np.ndarray:\n",
    "        pass\n",
    "\n",
    "    @abstractmethod\n",
    "    def derivative(self, x: np.ndarray) -> np.ndarray:\n",
    "        pass\n",
    "\n",
    "class Identity(ActivationFunction):\n",
    "    def __call__(self, x: np.ndarray) -> np.ndarray:\n",
    "        return x\n",
    "\n",
    "    def derivative(self, x: np.ndarray) -> np.ndarray:\n",
    "        return np.ones_like(x)\n",
    "\n",
    "class Sigmoid(ActivationFunction):\n",
    "    def __call__(self, x: np.ndarray) -> np.ndarray:\n",
    "        return 1 / (1 + np.exp(-x))\n",
    "\n",
    "    def derivative(self, x: np.ndarray) -> np.ndarray:\n",
    "        fx = self(x)\n",
    "        return fx * (1 - fx)\n",
    "\n",
    "class ReLU(ActivationFunction):\n",
    "    def __call__(self, x: np.ndarray) -> np.ndarray:\n",
    "        return np.maximum(0, x)\n",
    "\n",
    "    def derivative(self, x: np.ndarray) -> np.ndarray:\n",
    "        return (x > 0).astype(float)\n",
    "    \n",
    "class Softmax(ActivationFunction):\n",
    "    def __call__(self, x: np.ndarray) -> np.ndarray:\n",
    "        shift_x = x - np.max(x, axis=1, keepdims=True)\n",
    "        exps = np.exp(shift_x)\n",
    "        return exps / np.sum(exps, axis=1, keepdims=True)\n",
    "\n",
    "    def derivative(self, x: np.ndarray) -> np.ndarray:\n",
    "        return np.ones_like(x)"
   ]
  },
  {
   "cell_type": "code",
   "execution_count": 4,
   "metadata": {},
   "outputs": [],
   "source": [
    "# Weight Initializer\n",
    "\n",
    "class WeightInitializer:\n",
    "    def initialize(self, shape: tuple[int, ...]) -> np.ndarray:\n",
    "        ...\n",
    "\n",
    "class RandomWeightInitializer(WeightInitializer):\n",
    "    min: float\n",
    "    max: float\n",
    "\n",
    "    def __init__(self, min: float, max: float):\n",
    "        self.min = min\n",
    "        self.max_val = max\n",
    "    \n",
    "    def initialize(self, shape: tuple[int, ...]) -> np.ndarray:\n",
    "        return np.random.uniform(self.min, self.max, shape)\n",
    "\n",
    "class ZeroWeightInitializer(WeightInitializer):\n",
    "    def initialize(self, shape: tuple[int, ...]) -> np.ndarray:\n",
    "        return np.zeros(shape)\n",
    "\n",
    "class HeWeightInitializer(WeightInitializer):\n",
    "    def initialize(self, shape: tuple[int, ...]) -> np.ndarray:\n",
    "        fan_in = shape[0]\n",
    "        std_dev = np.sqrt(2.0 / fan_in)\n",
    "        return np.random.normal(0, std_dev, shape)\n",
    "\n",
    "class XavierWeightInitializer(WeightInitializer):\n",
    "    def initialize(self, shape: tuple[int, ...]) -> np.ndarray:\n",
    "        fan_in, fan_out = shape\n",
    "        variance = 2.0 / (fan_in + fan_out)\n",
    "        std_dev = np.sqrt(variance)\n",
    "        return np.random.normal(0, std_dev, shape)"
   ]
  },
  {
   "cell_type": "code",
   "execution_count": 43,
   "metadata": {},
   "outputs": [],
   "source": [
    "# Loss\n",
    "class LossFunction(ABC):\n",
    "    @abstractmethod\n",
    "    def __call__(self, y_true: np.ndarray, y_pred: np.ndarray) -> float:\n",
    "        ...\n",
    "\n",
    "class MeanSquaredError(LossFunction):\n",
    "    def __call__(self, y_true: np.ndarray, y_pred: np.ndarray) -> float:\n",
    "        return float(np.mean((y_true - y_pred) ** 2))\n",
    "\n",
    "class CrossEntropy(LossFunction):\n",
    "    def __call__(self, y_true: np.ndarray, y_pred: np.ndarray) -> float:\n",
    "        return -np.sum(y_true * np.log(y_pred))"
   ]
  },
  {
   "cell_type": "code",
   "execution_count": 65,
   "metadata": {},
   "outputs": [],
   "source": [
    "# Neural network\n",
    "from typing import Optional\n",
    "from tqdm import tqdm\n",
    "import random\n",
    "\n",
    "class Hyperparameters:\n",
    "    def __init__(\n",
    "        self,\n",
    "        learning_rate: float,\n",
    "        epochs: int,\n",
    "        batch_size: int = 32,\n",
    "        weight_decay: float = 0,\n",
    "        clip_gradient: float = 1.0,\n",
    "        clip_weight: float = 5.0,\n",
    "        clip_weight_update: float = 0.1,\n",
    "        clip_bias: float = 5.0\n",
    "    ):\n",
    "        self.learning_rate = learning_rate\n",
    "        self.epochs = epochs\n",
    "        self.batch_size = batch_size\n",
    "        self.weight_decay = weight_decay\n",
    "        self.clip_gradient = clip_gradient\n",
    "        self.clip_weight = clip_weight\n",
    "        self.clip_weight_update = clip_weight_update\n",
    "        self.clip_bias = clip_bias\n",
    "\n",
    "class Layer:\n",
    "    size: int\n",
    "    a: ActivationFunction\n",
    "    w: np.ndarray\n",
    "    b: np.ndarray\n",
    "    z: np.ndarray\n",
    "    w_updates: np.ndarray\n",
    "    b_updates: np.ndarray\n",
    "    out: np.ndarray\n",
    "\n",
    "    def __init__(self, size: int, a: ActivationFunction):\n",
    "        self.size = size\n",
    "        self.a = a\n",
    "        self.w = np.empty((0, 0))\n",
    "        self.b = np.empty(0)\n",
    "        self.out = np.empty(0)\n",
    "        self.z = np.empty(0)  # Pre-activation values\n",
    "        self.w_updates = np.empty((0, 0))\n",
    "        self.b_updates = np.empty(0)\n",
    "\n",
    "    def initialize(self, input_size: int, weight_initializer: WeightInitializer):\n",
    "        self.w = weight_initializer.initialize((input_size, self.size))\n",
    "        self.b = np.zeros(self.size)\n",
    "\n",
    "class NeuralNetwork:\n",
    "    def __init__(\n",
    "        self,\n",
    "        layer_configs: list[tuple[int, ActivationFunction, WeightInitializer]],\n",
    "        random_state: Optional[int] = None\n",
    "    ):\n",
    "        if random_state is not None:\n",
    "            random.seed(random_state)\n",
    "            np.random.seed(random_state)\n",
    "            \n",
    "        self.layers = []\n",
    "        for i, (size, activation, weight_initializer) in enumerate(layer_configs):\n",
    "            layer = Layer(size, activation)\n",
    "            if i > 0:\n",
    "                layer.initialize(layer_configs[i-1][0], weight_initializer)\n",
    "            self.layers.append(layer)\n",
    "                \n",
    "        self.avg_loss_history = []\n",
    "        self.accuracy_history = []\n",
    "\n",
    "    def feed_forward(self, X: np.ndarray) -> np.ndarray:\n",
    "        current_input = X\n",
    "        self.layers[0].out = current_input\n",
    "\n",
    "        for i in range(1, len(self.layers)):\n",
    "            layer = self.layers[i]\n",
    "            layer.z = np.dot(current_input, layer.w) + layer.b\n",
    "            layer.out = layer.a(layer.z)\n",
    "            current_input = layer.out\n",
    "\n",
    "        return self.layers[-1].out\n",
    "\n",
    "    def back_propagate(self, X: np.ndarray, y: np.ndarray, hyperparameters: Hyperparameters):\n",
    "        batch_size = X.shape[0]\n",
    "        \n",
    "        # Output layer\n",
    "        output_layer = self.layers[-1]\n",
    "        delta = (output_layer.out - y) * output_layer.a.derivative(output_layer.z)\n",
    "        # Clip gradient\n",
    "        delta = np.clip(delta, -hyperparameters.clip_gradient, hyperparameters.clip_gradient)\n",
    "\n",
    "        for i in range(len(self.layers) - 1, 0, -1):\n",
    "            layer = self.layers[i]\n",
    "            prev_layer = self.layers[i-1]\n",
    "\n",
    "            # Weight decay\n",
    "            layer.w_updates = (\n",
    "                np.dot(prev_layer.out.T, delta) / batch_size - \n",
    "                hyperparameters.weight_decay * layer.w\n",
    "            )\n",
    "            layer.b_updates = np.mean(delta, axis=0)\n",
    "\n",
    "            # Clip weight updates\n",
    "            layer.w_updates = np.clip(\n",
    "                layer.w_updates, \n",
    "                -hyperparameters.clip_weight_update,\n",
    "                hyperparameters.clip_weight_update\n",
    "            )\n",
    "            \n",
    "            if i > 1:\n",
    "                delta = (np.dot(delta, layer.w.T) * \n",
    "                        prev_layer.a.derivative(prev_layer.z))\n",
    "                # Clip delta\n",
    "                delta = np.clip(delta, -hyperparameters.clip_gradient, hyperparameters.clip_gradient)\n",
    "\n",
    "    def update_w(self, hyperparameters: Hyperparameters):\n",
    "        for layer in self.layers[1:]:\n",
    "            layer.w -= hyperparameters.learning_rate * layer.w_updates\n",
    "            # Clip w\n",
    "            layer.w = np.clip(\n",
    "                layer.w, \n",
    "                -hyperparameters.clip_weight,\n",
    "                hyperparameters.clip_weight\n",
    "            )\n",
    "            \n",
    "            layer.b -= hyperparameters.learning_rate * layer.b_updates\n",
    "            # Clip b\n",
    "            layer.b = np.clip(\n",
    "                layer.b,\n",
    "                -hyperparameters.clip_bias,\n",
    "                hyperparameters.clip_bias\n",
    "            )\n",
    "\n",
    "    def train(\n",
    "        self,\n",
    "        X: np.ndarray,\n",
    "        y: np.ndarray,\n",
    "        hyperparameters: Hyperparameters,\n",
    "        loss_function: LossFunction\n",
    "    ):\n",
    "        n_samples = X.shape[0]\n",
    "        n_batches = (n_samples + hyperparameters.batch_size - 1) // hyperparameters.batch_size\n",
    "\n",
    "        for epoch in tqdm(range(hyperparameters.epochs)):\n",
    "            # Shuffle data\n",
    "            indices = np.random.permutation(n_samples)\n",
    "            X_shuffled = X[indices]\n",
    "            y_shuffled = y[indices]\n",
    "\n",
    "            total_loss = 0\n",
    "            correct_predictions = 0\n",
    "\n",
    "            for i in range(n_batches):\n",
    "                start_idx = i * hyperparameters.batch_size\n",
    "                end_idx = min((i + 1) * hyperparameters.batch_size, n_samples)\n",
    "                \n",
    "                X_batch = X_shuffled[start_idx:end_idx]\n",
    "                y_batch = y_shuffled[start_idx:end_idx]\n",
    "\n",
    "                outputs = self.feed_forward(X_batch)\n",
    "                self.back_propagate(X_batch, y_batch, hyperparameters)\n",
    "                self.update_w(hyperparameters)\n",
    "\n",
    "                # Calculate metrics\n",
    "                batch_loss = loss_function(y_batch, outputs)\n",
    "                total_loss += batch_loss * (end_idx - start_idx)\n",
    "                \n",
    "                predicted_classes = np.argmax(outputs, axis=1)\n",
    "                true_classes = np.argmax(y_batch, axis=1)\n",
    "                correct_predictions += np.sum(predicted_classes == true_classes)\n",
    "\n",
    "            avg_loss = total_loss / n_samples\n",
    "            accuracy = correct_predictions / n_samples\n",
    "            self.avg_loss_history.append(avg_loss)\n",
    "            self.accuracy_history.append(accuracy)\n",
    "            \n",
    "            # tqdm.write(\n",
    "            #     f\"Epoch {epoch + 1}/{hyperparameters.epochs}, Loss: {avg_loss:}, Accuracy: {accuracy}\"\n",
    "            # )"
   ]
  },
  {
   "cell_type": "markdown",
   "metadata": {},
   "source": [
    "### Training & Testing"
   ]
  },
  {
   "cell_type": "code",
   "execution_count": 82,
   "metadata": {},
   "outputs": [
    {
     "name": "stderr",
     "output_type": "stream",
     "text": [
      "  0%|          | 0/40 [00:00<?, ?it/s]"
     ]
    },
    {
     "name": "stderr",
     "output_type": "stream",
     "text": [
      "100%|██████████| 40/40 [00:00<00:00, 64.23it/s]\n"
     ]
    },
    {
     "data": {
      "text/plain": [
       "0.9777777777777777"
      ]
     },
     "execution_count": 82,
     "metadata": {},
     "output_type": "execute_result"
    }
   ],
   "source": [
    "from sklearn.datasets import load_digits\n",
    "from sklearn.model_selection import train_test_split\n",
    "from sklearn.preprocessing import StandardScaler\n",
    "from sklearn.metrics import accuracy_score\n",
    "\n",
    "digits = load_digits()\n",
    "\n",
    "X = digits.data  # type: ignore\n",
    "y = digits.target  # type: ignore\n",
    "\n",
    "X_train, X_test, y_train, y_test = train_test_split(\n",
    "    X, y, test_size=0.25, random_state=42)\n",
    "\n",
    "scaler = StandardScaler()\n",
    "X_train = scaler.fit_transform(X_train)\n",
    "X_test = scaler.transform(X_test)\n",
    "\n",
    "nn = NeuralNetwork([\n",
    "    (64, ReLU(), HeWeightInitializer()),\n",
    "    (48, ReLU(), HeWeightInitializer()),\n",
    "    (32, ReLU(), HeWeightInitializer()),\n",
    "    (16, ReLU(), HeWeightInitializer()),\n",
    "    (10, Softmax(), XavierWeightInitializer())\n",
    "], random_state=42)\n",
    "\n",
    "nn.train(\n",
    "    X_train,\n",
    "    np.array([[1.0 if i == target else 0.0 for i in range(10)] for target in y_train]),\n",
    "    Hyperparameters(\n",
    "    learning_rate=0.05,\n",
    "    epochs=40,\n",
    "    batch_size=32,\n",
    "    weight_decay=0.0001,\n",
    "    clip_gradient=5.0,\n",
    "    clip_weight=10.0,\n",
    "    clip_weight_update=0.5,\n",
    "    clip_bias=10.0),\n",
    "    CrossEntropy()\n",
    ")\n",
    "\n",
    "probabilities = nn.feed_forward(X_test)\n",
    "y_pred = np.argmax(probabilities, axis=1)\n",
    "\n",
    "accuracy_score(y_test, y_pred)"
   ]
  },
  {
   "cell_type": "code",
   "execution_count": 83,
   "metadata": {},
   "outputs": [
    {
     "data": {
      "image/png": "[encoded data removed]",
      "text/plain": [
       "<Figure size 640x480 with 2 Axes>"
      ]
     },
     "metadata": {},
     "output_type": "display_data"
    }
   ],
   "source": [
    "import matplotlib.pyplot as plt\n",
    "\n",
    "plt.rcParams['figure.dpi'] = 100\n",
    "fig, ax1 = plt.subplots()\n",
    "\n",
    "color = 'tab:blue'\n",
    "ax1.set_xlabel('Epoch')\n",
    "ax1.set_ylabel('Average Loss', color=color)\n",
    "ax1.set_yscale('log')\n",
    "ax1.plot(nn.avg_loss_history, color=color)\n",
    "ax1.tick_params(axis='y', labelcolor=color)\n",
    "\n",
    "ax2 = ax1.twinx()  \n",
    "color = 'tab:red'\n",
    "ax2.set_ylabel('Accuracy', color=color)\n",
    "ax2.set_yscale('log')\n",
    "ax2.plot(nn.accuracy_history, color=color)\n",
    "ax2.tick_params(axis='y', labelcolor=color)\n",
    "\n",
    "fig.tight_layout()  \n",
    "plt.show()"
   ]
  },
  {
   "cell_type": "markdown",
   "metadata": {},
   "source": [
    "Good."
   ]
  }
 ],
 "metadata": {
  "kernelspec": {
   "display_name": "Python 3",
   "language": "python",
   "name": "python3"
  },
  "language_info": {
   "codemirror_mode": {
    "name": "ipython",
    "version": 3
   },
   "file_extension": ".py",
   "mimetype": "text/x-python",
   "name": "python",
   "nbconvert_exporter": "python",
   "pygments_lexer": "ipython3",
   "version": "3.12.3"
  }
 },
 "nbformat": 4,
 "nbformat_minor": 2
}
